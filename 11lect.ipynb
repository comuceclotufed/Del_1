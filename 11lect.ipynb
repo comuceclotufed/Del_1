{
 "cells": [
  {
   "cell_type": "markdown",
   "source": [
    "# random\n",
    "Урок посвящен модулю   , который содержит функции по работе с псевдослучайными числами."
   ],
   "metadata": {
    "collapsed": false
   }
  },
  {
   "cell_type": "markdown",
   "source": [
    "randrange\n",
    "Return a random integer N such that a <= N <= b"
   ],
   "metadata": {
    "collapsed": false
   }
  },
  {
   "cell_type": "code",
   "execution_count": 5,
   "outputs": [
    {
     "name": "stdout",
     "output_type": "stream",
     "text": [
      "17   -4\n"
     ]
    }
   ],
   "source": [
    "import random\n",
    "num1 = random.randint(0, 17)\n",
    "num2 = random.randint(-5, 5)\n",
    "print(num1,' ',num2)"
   ],
   "metadata": {
    "collapsed": false
   }
  },
  {
   "cell_type": "code",
   "execution_count": 2,
   "outputs": [
    {
     "name": "stdout",
     "output_type": "stream",
     "text": [
      "10\n",
      "100\n",
      "6\n",
      "82\n",
      "1\n",
      "4\n",
      "69\n",
      "57\n",
      "94\n",
      "68\n"
     ]
    }
   ],
   "source": [
    "import random\n",
    "for _ in range(10): # нижнее подчёркивание используют для того,\n",
    "    print(random.randint(1, 100))# чтобы показать, что эта переменная нигде дальше не используется."
   ],
   "metadata": {
    "collapsed": false
   }
  },
  {
   "cell_type": "markdown",
   "source": [
    "randrange"
   ],
   "metadata": {
    "collapsed": false
   }
  },
  {
   "cell_type": "code",
   "execution_count": 9,
   "outputs": [],
   "source": [
    "#range(0,10)\n",
    "#start = 0\n",
    "#step = 1\n",
    "#stop = 10"
   ],
   "metadata": {
    "collapsed": false
   }
  },
  {
   "cell_type": "code",
   "execution_count": 2,
   "outputs": [
    {
     "name": "stdout",
     "output_type": "stream",
     "text": [
      "5\n"
     ]
    }
   ],
   "source": [
    "import random\n",
    "num = random.randrange(10) # From 0 to 9\n",
    "print(num)"
   ],
   "metadata": {
    "collapsed": false
   }
  },
  {
   "cell_type": "code",
   "execution_count": 1,
   "outputs": [
    {
     "name": "stdout",
     "output_type": "stream",
     "text": [
      "6\n"
     ]
    }
   ],
   "source": [
    "import random\n",
    "num = random.randrange(5, 10) # From 5 to 9\n",
    "print(num)"
   ],
   "metadata": {
    "collapsed": false
   }
  },
  {
   "cell_type": "code",
   "execution_count": 1,
   "outputs": [
    {
     "name": "stdout",
     "output_type": "stream",
     "text": [
      "40\n"
     ]
    }
   ],
   "source": [
    "import random\n",
    "num = random.randrange(0, 101, 10) # 0,10,20,...,90,100\n",
    "print(num)"
   ],
   "metadata": {
    "collapsed": false
   }
  },
  {
   "cell_type": "markdown",
   "source": [
    "random"
   ],
   "metadata": {
    "collapsed": false
   }
  },
  {
   "cell_type": "code",
   "execution_count": 2,
   "outputs": [
    {
     "name": "stdout",
     "output_type": "stream",
     "text": [
      "0.9917071631116533\n"
     ]
    }
   ],
   "source": [
    "import random\n",
    "num = random.random() # [0.0;1.0)\n",
    "print(num)"
   ],
   "metadata": {
    "collapsed": false
   }
  },
  {
   "cell_type": "markdown",
   "source": [
    "uniform"
   ],
   "metadata": {
    "collapsed": false
   }
  },
  {
   "cell_type": "code",
   "execution_count": 3,
   "outputs": [
    {
     "name": "stdout",
     "output_type": "stream",
     "text": [
      "4.4894150459849005\n"
     ]
    }
   ],
   "source": [
    "import random\n",
    "num = random.uniform(1.5, 17.3) # [1.5;17.3]\n",
    "print(num)"
   ],
   "metadata": {
    "collapsed": false
   }
  },
  {
   "cell_type": "markdown",
   "source": [
    "seed"
   ],
   "metadata": {
    "collapsed": false
   }
  },
  {
   "cell_type": "code",
   "execution_count": 1,
   "outputs": [
    {
     "name": "stdout",
     "output_type": "stream",
     "text": [
      "67\n",
      "54\n",
      "39\n",
      "47\n",
      "38\n",
      "23\n",
      "99\n",
      "91\n",
      "91\n",
      "70\n"
     ]
    }
   ],
   "source": [
    "import random\n",
    "random.seed(17) # явно устанавливаем начальное значение для\n",
    "#генератора случайных чисел\n",
    "for _ in range(10):\n",
    "    print(random.randint(1, 100))"
   ],
   "metadata": {
    "collapsed": false
   }
  },
  {
   "cell_type": "code",
   "execution_count": 2,
   "outputs": [
    {
     "name": "stdout",
     "output_type": "stream",
     "text": [
      "74\n"
     ]
    }
   ],
   "source": [
    "from random import *\n",
    "seed(10)\n",
    "print(randint(1,100))"
   ],
   "metadata": {
    "collapsed": false
   }
  },
  {
   "cell_type": "markdown",
   "source": [
    "shuffle"
   ],
   "metadata": {
    "collapsed": false
   }
  },
  {
   "cell_type": "code",
   "execution_count": 1,
   "outputs": [
    {
     "name": "stdout",
     "output_type": "stream",
     "text": [
      "[8, 3, 7, 5, 2, 4, 6, 1]\n"
     ]
    }
   ],
   "source": [
    "import random\n",
    "numbers = [1, 2, 3, 4, 5, 6, 7, 8]\n",
    "random.shuffle(numbers)\n",
    "print(numbers)"
   ],
   "metadata": {
    "collapsed": false
   }
  },
  {
   "cell_type": "markdown",
   "source": [
    "choice"
   ],
   "metadata": {
    "collapsed": false
   }
  },
  {
   "cell_type": "code",
   "execution_count": 4,
   "outputs": [
    {
     "name": "stdout",
     "output_type": "stream",
     "text": [
      "K\n",
      "3\n",
      "c\n"
     ]
    }
   ],
   "source": [
    "import random\n",
    "print(random.choice('BEEGEEK'))\n",
    "print(random.choice([1, 2, 3, 4]))\n",
    "print(random.choice(('a', 'b', 'c', 'd')))"
   ],
   "metadata": {
    "collapsed": false
   }
  },
  {
   "cell_type": "code",
   "execution_count": 8,
   "outputs": [
    {
     "ename": "TypeError",
     "evalue": "'set' object is not subscriptable",
     "output_type": "error",
     "traceback": [
      "\u001B[0;31m---------------------------------------------------------------------------\u001B[0m",
      "\u001B[0;31mTypeError\u001B[0m                                 Traceback (most recent call last)",
      "Cell \u001B[0;32mIn [8], line 1\u001B[0m\n\u001B[0;32m----> 1\u001B[0m \u001B[38;5;28mprint\u001B[39m(\u001B[43mrandom\u001B[49m\u001B[38;5;241;43m.\u001B[39;49m\u001B[43mchoice\u001B[49m\u001B[43m(\u001B[49m\u001B[43m{\u001B[49m\u001B[38;5;124;43m'\u001B[39;49m\u001B[38;5;124;43ma\u001B[39;49m\u001B[38;5;124;43m'\u001B[39;49m\u001B[43m,\u001B[49m\u001B[43m \u001B[49m\u001B[38;5;124;43m'\u001B[39;49m\u001B[38;5;124;43mb\u001B[39;49m\u001B[38;5;124;43m'\u001B[39;49m\u001B[43m,\u001B[49m\u001B[43m \u001B[49m\u001B[38;5;124;43m'\u001B[39;49m\u001B[38;5;124;43mc\u001B[39;49m\u001B[38;5;124;43m'\u001B[39;49m\u001B[43m,\u001B[49m\u001B[43m \u001B[49m\u001B[38;5;124;43m'\u001B[39;49m\u001B[38;5;124;43md\u001B[39;49m\u001B[38;5;124;43m'\u001B[39;49m\u001B[43m}\u001B[49m\u001B[43m)\u001B[49m)\n",
      "File \u001B[0;32m/Applications/Xcode.app/Contents/Developer/Library/Frameworks/Python3.framework/Versions/3.9/lib/python3.9/random.py:346\u001B[0m, in \u001B[0;36mRandom.choice\u001B[0;34m(self, seq)\u001B[0m\n\u001B[1;32m    344\u001B[0m \u001B[38;5;124;03m\"\"\"Choose a random element from a non-empty sequence.\"\"\"\u001B[39;00m\n\u001B[1;32m    345\u001B[0m \u001B[38;5;66;03m# raises IndexError if seq is empty\u001B[39;00m\n\u001B[0;32m--> 346\u001B[0m \u001B[38;5;28;01mreturn\u001B[39;00m \u001B[43mseq\u001B[49m\u001B[43m[\u001B[49m\u001B[38;5;28;43mself\u001B[39;49m\u001B[38;5;241;43m.\u001B[39;49m\u001B[43m_randbelow\u001B[49m\u001B[43m(\u001B[49m\u001B[38;5;28;43mlen\u001B[39;49m\u001B[43m(\u001B[49m\u001B[43mseq\u001B[49m\u001B[43m)\u001B[49m\u001B[43m)\u001B[49m\u001B[43m]\u001B[49m\n",
      "\u001B[0;31mTypeError\u001B[0m: 'set' object is not subscriptable"
     ]
    }
   ],
   "source": [
    "print(random.choice({'a', 'b', 'c', 'd'}))\n",
    "#Ошибка 'set' object is not subscriptable\n",
    "#проще говоря не индексируемо\n",
    "#множество не упорядочено\n",
    "#нельзя использовать индексацию и срезы"
   ],
   "metadata": {
    "collapsed": false
   }
  },
  {
   "cell_type": "markdown",
   "source": [
    "sample"
   ],
   "metadata": {
    "collapsed": false
   }
  },
  {
   "cell_type": "code",
   "execution_count": 5,
   "outputs": [
    {
     "name": "stdout",
     "output_type": "stream",
     "text": [
      "[5]\n",
      "[8, 2]\n",
      "[8, 9, 5]\n",
      "[2, 9, 5, 12, 8]\n"
     ]
    }
   ],
   "source": [
    "import random\n",
    "numbers = [2, 5, 8, 9, 12]\n",
    "print(random.sample(numbers, 1))\n",
    "print(random.sample(numbers, 2))\n",
    "print(random.sample(numbers, 3))\n",
    "print(random.sample(numbers, 5))"
   ],
   "metadata": {
    "collapsed": false
   }
  },
  {
   "cell_type": "code",
   "execution_count": 6,
   "outputs": [
    {
     "ename": "ValueError",
     "evalue": "Sample larger than population or is negative",
     "output_type": "error",
     "traceback": [
      "\u001B[0;31m---------------------------------------------------------------------------\u001B[0m",
      "\u001B[0;31mValueError\u001B[0m                                Traceback (most recent call last)",
      "Cell \u001B[0;32mIn [6], line 3\u001B[0m\n\u001B[1;32m      1\u001B[0m \u001B[38;5;28;01mimport\u001B[39;00m \u001B[38;5;21;01mrandom\u001B[39;00m\n\u001B[1;32m      2\u001B[0m numbers \u001B[38;5;241m=\u001B[39m [\u001B[38;5;241m2\u001B[39m, \u001B[38;5;241m5\u001B[39m, \u001B[38;5;241m8\u001B[39m, \u001B[38;5;241m9\u001B[39m, \u001B[38;5;241m12\u001B[39m]\n\u001B[0;32m----> 3\u001B[0m \u001B[38;5;28mprint\u001B[39m(\u001B[43mrandom\u001B[49m\u001B[38;5;241;43m.\u001B[39;49m\u001B[43msample\u001B[49m\u001B[43m(\u001B[49m\u001B[43mnumbers\u001B[49m\u001B[43m,\u001B[49m\u001B[43m \u001B[49m\u001B[38;5;241;43m6\u001B[39;49m\u001B[43m)\u001B[49m)\n",
      "File \u001B[0;32m/Applications/Xcode.app/Contents/Developer/Library/Frameworks/Python3.framework/Versions/3.9/lib/python3.9/random.py:449\u001B[0m, in \u001B[0;36mRandom.sample\u001B[0;34m(self, population, k, counts)\u001B[0m\n\u001B[1;32m    447\u001B[0m randbelow \u001B[38;5;241m=\u001B[39m \u001B[38;5;28mself\u001B[39m\u001B[38;5;241m.\u001B[39m_randbelow\n\u001B[1;32m    448\u001B[0m \u001B[38;5;28;01mif\u001B[39;00m \u001B[38;5;129;01mnot\u001B[39;00m \u001B[38;5;241m0\u001B[39m \u001B[38;5;241m<\u001B[39m\u001B[38;5;241m=\u001B[39m k \u001B[38;5;241m<\u001B[39m\u001B[38;5;241m=\u001B[39m n:\n\u001B[0;32m--> 449\u001B[0m     \u001B[38;5;28;01mraise\u001B[39;00m \u001B[38;5;167;01mValueError\u001B[39;00m(\u001B[38;5;124m\"\u001B[39m\u001B[38;5;124mSample larger than population or is negative\u001B[39m\u001B[38;5;124m\"\u001B[39m)\n\u001B[1;32m    450\u001B[0m result \u001B[38;5;241m=\u001B[39m [\u001B[38;5;28;01mNone\u001B[39;00m] \u001B[38;5;241m*\u001B[39m k\n\u001B[1;32m    451\u001B[0m setsize \u001B[38;5;241m=\u001B[39m \u001B[38;5;241m21\u001B[39m        \u001B[38;5;66;03m# size of a small set minus size of an empty list\u001B[39;00m\n",
      "\u001B[0;31mValueError\u001B[0m: Sample larger than population or is negative"
     ]
    }
   ],
   "source": [
    "import random\n",
    "numbers = [2, 5, 8, 9, 12]\n",
    "print(random.sample(numbers, 6))"
   ],
   "metadata": {
    "collapsed": false
   }
  },
  {
   "cell_type": "markdown",
   "source": [
    "string"
   ],
   "metadata": {
    "collapsed": false
   }
  },
  {
   "cell_type": "code",
   "execution_count": 9,
   "outputs": [
    {
     "name": "stdout",
     "output_type": "stream",
     "text": [
      "abcdefghijklmnopqrstuvwxyzABCDEFGHIJKLMNOPQRSTUVWXYZ\n",
      "ABCDEFGHIJKLMNOPQRSTUVWXYZ\n",
      "abcdefghijklmnopqrstuvwxyz\n",
      "0123456789\n",
      "0123456789abcdefABCDEF\n",
      "01234567\n",
      "!\"#$%&'()*+,-./:;<=>?@[\\]^_`{|}~\n",
      "0123456789abcdefghijklmnopqrstuvwxyzABCDEFGHIJKLMNOPQRSTUVWXYZ!\"#$%&'()*+,-./:;<=>?@[\\]^_`{|}~ \t\n",
      "\u000B\f\n"
     ]
    }
   ],
   "source": [
    "# String constants\n",
    "import string\n",
    "print(string.ascii_letters)\n",
    "print(string.ascii_uppercase)\n",
    "print(string.ascii_lowercase)\n",
    "print(string.digits)\n",
    "print(string.hexdigits)\n",
    "print(string.octdigits)\n",
    "print(string.punctuation)\n",
    "print(string.printable)"
   ],
   "metadata": {
    "collapsed": false
   }
  },
  {
   "cell_type": "markdown",
   "source": [
    "decimal"
   ],
   "metadata": {
    "collapsed": false
   }
  },
  {
   "cell_type": "markdown",
   "source": [
    "float"
   ],
   "metadata": {
    "collapsed": false
   }
  },
  {
   "cell_type": "code",
   "execution_count": 1,
   "outputs": [
    {
     "name": "stdout",
     "output_type": "stream",
     "text": [
      "YES\n"
     ]
    }
   ],
   "source": [
    "if 0.3 == 0.3:\n",
    "    print('YES')\n",
    "else:\n",
    "    print('NO')\n"
   ],
   "metadata": {
    "collapsed": false
   }
  },
  {
   "cell_type": "code",
   "execution_count": 4,
   "outputs": [
    {
     "name": "stdout",
     "output_type": "stream",
     "text": [
      "NO\n"
     ]
    }
   ],
   "source": [
    "num = 0.1 + 0.1 + 0.1 #0.30000000000000004\n",
    "# это связано с тем, что компьютеры вычисляют не в десятичном, а в двоичном формате\n",
    "if num == 0.3:\n",
    "    print('YES')\n",
    "else:\n",
    "    print('NO')"
   ],
   "metadata": {
    "collapsed": false
   }
  },
  {
   "cell_type": "code",
   "execution_count": 3,
   "outputs": [
    {
     "name": "stdout",
     "output_type": "stream",
     "text": [
      "YES\n"
     ]
    }
   ],
   "source": [
    "num = 0.1 + 0.1 + 0.1\n",
    "eps = 0.000000001           # точность сравнения\n",
    "if abs(num - 0.3) < eps: # число num отличается от числа 0.3 менее чем 0.000000001\n",
    "    print('YES')\n",
    "else:\n",
    "    print('NO')"
   ],
   "metadata": {
    "collapsed": false
   }
  },
  {
   "cell_type": "markdown",
   "source": [
    "decimal"
   ],
   "metadata": {
    "collapsed": false
   }
  },
  {
   "cell_type": "code",
   "execution_count": 2,
   "outputs": [
    {
     "name": "stdout",
     "output_type": "stream",
     "text": [
      "1\n",
      "567\n",
      "-93\n",
      "12345\n",
      "52.198\n"
     ]
    }
   ],
   "source": [
    "from decimal import *\n",
    "d1 = Decimal(1)\n",
    "d2 = Decimal(567)\n",
    "d3 = Decimal(-93)\n",
    "d4 = Decimal('12345')\n",
    "d5 = Decimal('52.198')\n",
    "print(d1, d2, d3, d4, d5, sep='\\n')"
   ],
   "metadata": {
    "collapsed": false
   }
  },
  {
   "cell_type": "code",
   "execution_count": 3,
   "outputs": [
    {
     "name": "stdout",
     "output_type": "stream",
     "text": [
      "0.1000000000000000055511151231257827021181583404541015625\n"
     ]
    }
   ],
   "source": [
    "from decimal import *\n",
    "num = Decimal(0.1)\n",
    "print(num)"
   ],
   "metadata": {
    "collapsed": false
   }
  },
  {
   "cell_type": "code",
   "execution_count": 8,
   "outputs": [
    {
     "name": "stdout",
     "output_type": "stream",
     "text": [
      "+ 7.5\n",
      "- 2.9\n",
      "* 11.96\n",
      "/ 2.260869565217391304347826087\n",
      "// 2\n",
      "** 44.34122533787992500412791298\n"
     ]
    }
   ],
   "source": [
    "from decimal import *\n",
    "num1 = Decimal('5.2')\n",
    "num2 = Decimal('2.3')\n",
    "print(\"+\",num1 + num2)\n",
    "print(\"-\",num1 - num2)\n",
    "print(\"*\",num1 * num2)\n",
    "print(\"/\",num1 / num2)\n",
    "print(\"//\",num1 // num2)\n",
    "print(\"**\",num1 ** num2)"
   ],
   "metadata": {
    "collapsed": false
   }
  },
  {
   "cell_type": "code",
   "execution_count": 9,
   "outputs": [
    {
     "name": "stdout",
     "output_type": "stream",
     "text": [
      "6.2\n",
      "-4.8\n",
      "10.4\n",
      "731.1616\n"
     ]
    }
   ],
   "source": [
    "from decimal import *\n",
    "num = Decimal('5.2')\n",
    "print(num + 1)\n",
    "print(num - 10)\n",
    "print(num * 2)\n",
    "print(num ** 4)"
   ],
   "metadata": {
    "collapsed": false
   }
  },
  {
   "cell_type": "code",
   "execution_count": 1,
   "outputs": [
    {
     "name": "stdout",
     "output_type": "stream",
     "text": [
      "1.2\n",
      "0.4994813555186418\n",
      "0.36464311358790924\n"
     ]
    }
   ],
   "source": [
    "from decimal import *\n",
    "from math import *\n",
    "num1 = Decimal('1.44')\n",
    "num2 = Decimal('0.523')\n",
    "print(sqrt(num1)) # Return the square root of num1.\n",
    "print(sin(num2)) # Return the sine of num2 radians.\n",
    "print(log(num1 + num2)) # Return the natural logarithm.\n",
    "# log_e b = ln b , где e - константа, примерно = 2.72"
   ],
   "metadata": {
    "collapsed": false
   }
  },
  {
   "cell_type": "code",
   "execution_count": 2,
   "outputs": [
    {
     "data": {
      "text/plain": "Decimal('2.718281828459045235360287471')"
     },
     "execution_count": 2,
     "metadata": {},
     "output_type": "execute_result"
    }
   ],
   "source": [
    "from decimal import *\n",
    "Decimal(1).exp() # 1^2.72"
   ],
   "metadata": {
    "collapsed": false
   }
  },
  {
   "cell_type": "code",
   "execution_count": 3,
   "outputs": [
    {
     "name": "stdout",
     "output_type": "stream",
     "text": [
      "3.162277660168379331998893544\n",
      "22026.46579480671651695790065\n",
      "2.302585092994045684017991455\n",
      "1\n"
     ]
    }
   ],
   "source": [
    "from decimal import *\n",
    "num = Decimal('10.0')\n",
    "print(num.sqrt())\n",
    "print(num.exp())\n",
    "print(num.ln())\n",
    "print(num.log10())"
   ],
   "metadata": {
    "collapsed": false
   }
  },
  {
   "cell_type": "code",
   "execution_count": 3,
   "outputs": [
    {
     "name": "stdout",
     "output_type": "stream",
     "text": [
      "DecimalTuple(sign=1, digits=(1, 4, 5, 6, 8, 7, 6, 9, 0, 1, 7), exponent=-10)\n",
      "DecimalTuple(sign=0, digits=(5, 2, 3), exponent=-3)\n"
     ]
    }
   ],
   "source": [
    "num1 = Decimal('-1.4568769017') # 10 digits after dot\n",
    "num2 = Decimal('0.523')\n",
    "print(num1.as_tuple())\n",
    "print(num2.as_tuple())"
   ],
   "metadata": {
    "collapsed": false
   }
  },
  {
   "cell_type": "code",
   "execution_count": 4,
   "outputs": [
    {
     "name": "stdout",
     "output_type": "stream",
     "text": [
      "1\n",
      "(1, 4, 5, 6, 8, 7, 6, 9, 0, 1, 7)\n",
      "-10\n"
     ]
    }
   ],
   "source": [
    "from decimal import *\n",
    "num = Decimal('-1.4568769017')\n",
    "num_tuple = num.as_tuple()\n",
    "print(num_tuple.sign)\n",
    "print(num_tuple.digits)\n",
    "print(num_tuple.exponent)"
   ],
   "metadata": {
    "collapsed": false
   }
  },
  {
   "cell_type": "code",
   "execution_count": 1,
   "outputs": [
    {
     "name": "stdout",
     "output_type": "stream",
     "text": [
      "Context(prec=28, rounding=ROUND_HALF_EVEN, Emin=-999999, Emax=999999, capitals=1, clamp=0, flags=[], traps=[InvalidOperation, DivisionByZero, Overflow])\n"
     ]
    }
   ],
   "source": [
    "from decimal import *\n",
    "print(getcontext())"
   ],
   "metadata": {
    "collapsed": false
   }
  },
  {
   "cell_type": "code",
   "execution_count": 1,
   "outputs": [
    {
     "name": "stdout",
     "output_type": "stream",
     "text": [
      "3.1415\n",
      "3.14\n",
      "6.28\n",
      "1.57\n"
     ]
    }
   ],
   "source": [
    "from decimal import *\n",
    "getcontext().prec = 3# устанавливаем точность в 3 знака\n",
    "num = Decimal('3.1415')\n",
    "print(num)\n",
    "print(num * 1)\n",
    "print(num * 2)\n",
    "print(num / 2)"
   ],
   "metadata": {
    "collapsed": false
   }
  },
  {
   "cell_type": "code",
   "execution_count": 1,
   "outputs": [
    {
     "name": "stdout",
     "output_type": "stream",
     "text": [
      "3.142\n",
      "3.14\n",
      "3.1\n"
     ]
    }
   ],
   "source": [
    "from decimal import *\n",
    "getcontext().prec = 4 # устанавливаем точность числа\n",
    "num = Decimal('3.1415926535')\n",
    "print(num.quantize(Decimal('1.000')))    #  округление до 3 цифр в дробной части\n",
    "print(num.quantize(Decimal('1.00'))) # округление до 2 цифр в дробной части\n",
    "print(num.quantize(Decimal('1.0')))      #  округление до 1 цифр в дробной части"
   ],
   "metadata": {
    "collapsed": false
   }
  },
  {
   "cell_type": "markdown",
   "source": [
    "Если точность округления установлена в 2 , а формат округления Decimal('1.00') , то возникнет ошибка."
   ],
   "metadata": {
    "collapsed": false
   }
  },
  {
   "cell_type": "code",
   "execution_count": 8,
   "outputs": [
    {
     "ename": "InvalidOperation",
     "evalue": "[<class 'decimal.InvalidOperation'>]",
     "output_type": "error",
     "traceback": [
      "\u001B[0;31m---------------------------------------------------------------------------\u001B[0m",
      "\u001B[0;31mInvalidOperation\u001B[0m                          Traceback (most recent call last)",
      "Cell \u001B[0;32mIn [8], line 4\u001B[0m\n\u001B[1;32m      2\u001B[0m num \u001B[38;5;241m=\u001B[39m Decimal(\u001B[38;5;124m'\u001B[39m\u001B[38;5;124m3.1415926535\u001B[39m\u001B[38;5;124m'\u001B[39m)\n\u001B[1;32m      3\u001B[0m getcontext()\u001B[38;5;241m.\u001B[39mprec \u001B[38;5;241m=\u001B[39m \u001B[38;5;241m1\u001B[39m \u001B[38;5;66;03m# устанавливаем точность округления\u001B[39;00m\n\u001B[0;32m----> 4\u001B[0m \u001B[38;5;28mprint\u001B[39m(\u001B[43mnum\u001B[49m\u001B[38;5;241;43m.\u001B[39;49m\u001B[43mquantize\u001B[49m\u001B[43m(\u001B[49m\u001B[43mDecimal\u001B[49m\u001B[43m(\u001B[49m\u001B[38;5;124;43m'\u001B[39;49m\u001B[38;5;124;43m1.00\u001B[39;49m\u001B[38;5;124;43m'\u001B[39;49m\u001B[43m)\u001B[49m\u001B[43m)\u001B[49m) \u001B[38;5;66;03m# округление до 2 цифр в дробной части\u001B[39;00m\n",
      "\u001B[0;31mInvalidOperation\u001B[0m: [<class 'decimal.InvalidOperation'>]"
     ]
    }
   ],
   "source": [
    "from decimal import *\n",
    "num = Decimal('3.1415926535')\n",
    "getcontext().prec = 1 # устанавливаем точность округления\n",
    "print(num.quantize(Decimal('1.00'))) # округление до 2 цифр в дробной части"
   ],
   "metadata": {
    "collapsed": false
   }
  },
  {
   "cell_type": "code",
   "execution_count": 6,
   "outputs": [
    {
     "name": "stdout",
     "output_type": "stream",
     "text": [
      "3.46\n",
      "3.45\n"
     ]
    }
   ],
   "source": [
    "from decimal import *\n",
    "num = Decimal('3.456')\n",
    "# округление в направлении бесконечности:\n",
    "print(num.quantize(Decimal('1.00'), ROUND_CEILING))\n",
    "# округление в направлении минус бесконечности\n",
    "print(num.quantize(Decimal('1.00'), ROUND_FLOOR))"
   ],
   "metadata": {
    "collapsed": false
   }
  },
  {
   "cell_type": "code",
   "execution_count": 1,
   "outputs": [
    {
     "name": "stdout",
     "output_type": "stream",
     "text": [
      "YES\n"
     ]
    }
   ],
   "source": [
    "from decimal import *\n",
    "num = Decimal('0.1')\n",
    "if num*3 == Decimal('0.3'):\n",
    "    print('YES')\n",
    "else:\n",
    "    print('NO')"
   ],
   "metadata": {
    "collapsed": false
   }
  },
  {
   "cell_type": "code",
   "execution_count": 3,
   "outputs": [
    {
     "name": "stdout",
     "output_type": "stream",
     "text": [
      "numbers:  [Decimal('1.34'), Decimal('3.45'), Decimal('1.00'), Decimal('0.03'), Decimal('9.25')]\n",
      "==========\n",
      "9.25\n",
      "0.03\n",
      "[Decimal('0.03'), Decimal('1.00'), Decimal('1.34'), Decimal('3.45'), Decimal('9.25')]\n"
     ]
    }
   ],
   "source": [
    "from decimal import *\n",
    "s = '1.34 3.45 1.00 0.03 9.25'\n",
    "numbers = [Decimal(i) for i in s.split()] #str.split() пробелы в качестве разделителя\n",
    "print('numbers: ',numbers)\n",
    "maximum = max(numbers)\n",
    "minimum = min(numbers)\n",
    "numbers.sort()\n",
    "print(\"==========\")\n",
    "print(maximum)\n",
    "print(minimum)\n",
    "print(numbers)"
   ],
   "metadata": {
    "collapsed": false
   }
  },
  {
   "cell_type": "code",
   "execution_count": 1,
   "outputs": [
    {
     "name": "stdout",
     "output_type": "stream",
     "text": [
      "4.7\n",
      "3.612\n",
      "8.312\n"
     ]
    }
   ],
   "source": [
    "from decimal import Decimal as D\n",
    "num1 = D('1.5') + D('3.2')\n",
    "num2 = D('1.4') * D('2.58')\n",
    "num3 = num1 + num2\n",
    "print(num1)\n",
    "print(num2)\n",
    "print(num3)"
   ],
   "metadata": {
    "collapsed": false
   }
  },
  {
   "cell_type": "markdown",
   "source": [
    "# fraction"
   ],
   "metadata": {
    "collapsed": false
   }
  },
  {
   "cell_type": "markdown",
   "source": [
    "Рационáльное числó (от лат. ratio «отношение, деление, дробь») — число, которое можно представить в виде обыкновенной дроби\n",
    "\n",
    "$\\frac{m}{n}$, где\n",
    "m — целое число, а\n",
    "n — натуральное.\n",
    "\n",
    "\n",
    "<img alt=\"jupyter\" src=\"./img1.jpg\" width=\"1200\"/>\n",
    "\n"
   ],
   "metadata": {
    "collapsed": false
   }
  },
  {
   "cell_type": "markdown",
   "source": [
    "Иррациональным числом называют действительное число, которое не является рациональным (его нельзя записать обыкновенной дробью).\n",
    "Напр:\n",
    "$\\sqrt{5} = 2.23606798..$\n",
    "$\\sqrt{11} = 3.31662479..$\n"
   ],
   "metadata": {
    "collapsed": false
   }
  },
  {
   "cell_type": "code",
   "execution_count": 3,
   "outputs": [
    {
     "name": "stdout",
     "output_type": "stream",
     "text": [
      "3/4\n",
      "11/20\n",
      "1/9\n"
     ]
    }
   ],
   "source": [
    "from fractions import Fraction\n",
    "num1 = Fraction(3, 4) # 3 - числитель, 4 - знаменатель\n",
    "num2 = Fraction('0.55') # = 11/20\n",
    "num3 = Fraction('1/9')\n",
    "print(num1, num2, num3, sep='\\n')"
   ],
   "metadata": {
    "collapsed": false
   }
  },
  {
   "cell_type": "code",
   "execution_count": 4,
   "outputs": [
    {
     "name": "stdout",
     "output_type": "stream",
     "text": [
      "6124895493223875/18014398509481984\n"
     ]
    }
   ],
   "source": [
    "from fractions import Fraction\n",
    "num = Fraction(0.34)\n",
    "print(num)"
   ],
   "metadata": {
    "collapsed": false
   }
  },
  {
   "cell_type": "code",
   "execution_count": 5,
   "outputs": [
    {
     "name": "stdout",
     "output_type": "stream",
     "text": [
      "1/2\n",
      "3/4\n",
      "1/4\n"
     ]
    }
   ],
   "source": [
    "from fractions import Fraction\n",
    "num1 = Fraction(5, 10)\n",
    "num2 = Fraction('75/100')\n",
    "num3 = Fraction('0.25')\n",
    "print(num1, num2, num3, sep='\\n')"
   ],
   "metadata": {
    "collapsed": false
   }
  },
  {
   "cell_type": "code",
   "execution_count": 1,
   "outputs": [
    {
     "name": "stdout",
     "output_type": "stream",
     "text": [
      "5\n",
      "1\n"
     ]
    }
   ],
   "source": [
    "from fractions import Fraction\n",
    "num1 = Fraction(5, 1) # 5/1 = 5\n",
    "num2 = Fraction(23, 23) # 23/23 = 1\n",
    "print(num1, num2, sep='\\n')"
   ],
   "metadata": {
    "collapsed": false
   }
  },
  {
   "cell_type": "code",
   "execution_count": 2,
   "outputs": [
    {
     "name": "stdout",
     "output_type": "stream",
     "text": [
      "True\n",
      "True\n",
      "False\n",
      "False\n",
      "True\n",
      "False\n"
     ]
    }
   ],
   "source": [
    "from fractions import Fraction\n",
    "num1 = Fraction(1, 2) # 1/2\n",
    "num2 = Fraction(15, 30) # 15/30=1/2\n",
    "num3 = Fraction(3, 5) # 3/5\n",
    "num4 = Fraction(5, 3) # 5/3\n",
    "num5 = 1\n",
    "num6 = 0.8\n",
    "print(num1 == num2)\n",
    "print(num1 != num4)\n",
    "print(num2 > num3)\n",
    "print(num4 <= num1)\n",
    "print(num1 < num5) # 1/2 < 1 is true\n",
    "print(num6 > num4) # 0.8 > 5/3 is false"
   ],
   "metadata": {
    "collapsed": false
   }
  },
  {
   "cell_type": "code",
   "execution_count": 3,
   "outputs": [
    {
     "name": "stdout",
     "output_type": "stream",
     "text": [
      "23/30\n",
      "-17/30\n",
      "1/15\n",
      "3/20\n"
     ]
    }
   ],
   "source": [
    "from fractions import Fraction\n",
    "num1 = Fraction('1/10')\n",
    "num2 = Fraction('2/3')\n",
    "print(num1 + num2)\n",
    "print(num1 - num2)\n",
    "print(num1 * num2)\n",
    "print(num1 / num2)"
   ],
   "metadata": {
    "collapsed": false
   }
  },
  {
   "cell_type": "code",
   "execution_count": 6,
   "outputs": [
    {
     "name": "stdout",
     "output_type": "stream",
     "text": [
      "11/8\n",
      "-5/8\n",
      "3/4\n",
      "81/4096\n"
     ]
    }
   ],
   "source": [
    "from fractions import Fraction\n",
    "num = Fraction('3/8')\n",
    "print(num + 1) # 3/8 + 8/8\n",
    "print(num - 1) # 3/8 - 8/8\n",
    "print(num * 2) # 3/8 * 16/8 = 48/64 / 16 = 3/4\n",
    "print(num ** 4) # (3/8)^4"
   ],
   "metadata": {
    "collapsed": false
   }
  },
  {
   "cell_type": "code",
   "execution_count": 7,
   "outputs": [
    {
     "name": "stdout",
     "output_type": "stream",
     "text": [
      "0.6123724356957945\n"
     ]
    }
   ],
   "source": [
    "from fractions import Fraction\n",
    "num1 = Fraction('3/8')\n",
    "num2 = Fraction('1/2')\n",
    "print(num1 ** num2)"
   ],
   "metadata": {
    "collapsed": false
   }
  },
  {
   "cell_type": "code",
   "execution_count": 2,
   "outputs": [
    {
     "name": "stdout",
     "output_type": "stream",
     "text": [
      "1.2\n",
      "0.4994813555186418\n",
      "0.6744739152943241\n"
     ]
    }
   ],
   "source": [
    "from fractions import Fraction\n",
    "from math import *\n",
    "num1 = Fraction('1.44') # 36/25\n",
    "num2 = Fraction('0.523') # 523/1000\n",
    "print(sqrt(num1)) # the square root of 2\n",
    "print(sin(num2))\n",
    "print(log(num1 + num2))"
   ],
   "metadata": {
    "collapsed": false
   }
  },
  {
   "cell_type": "markdown",
   "source": [
    "Важно понимать, что результатом работы функций\n",
    "модуля math являются   числа, а не fraction."
   ],
   "metadata": {
    "collapsed": false
   }
  },
  {
   "cell_type": "code",
   "execution_count": 1,
   "outputs": [
    {
     "name": "stdout",
     "output_type": "stream",
     "text": [
      "Числитель дроби равен: 5\n",
      "Знаменатель дроби равен: 16\n"
     ]
    }
   ],
   "source": [
    "from fractions import Fraction\n",
    "num = Fraction('5/16')\n",
    "print('Числитель дроби равен:', num.numerator)\n",
    "print('Знаменатель дроби равен:', num.denominator)"
   ],
   "metadata": {
    "collapsed": false
   }
  },
  {
   "cell_type": "markdown",
   "source": [
    "![jupyter](./img2.png)"
   ],
   "metadata": {
    "collapsed": false
   }
  },
  {
   "cell_type": "code",
   "execution_count": 2,
   "outputs": [
    {
     "name": "stdout",
     "output_type": "stream",
     "text": [
      "(5, 16)\n"
     ]
    }
   ],
   "source": [
    "from fractions import Fraction\n",
    "um = Fraction('-5/16')\n",
    "print(num.as_integer_ratio())"
   ],
   "metadata": {
    "collapsed": false
   }
  },
  {
   "cell_type": "code",
   "execution_count": 2,
   "outputs": [
    {
     "name": "stdout",
     "output_type": "stream",
     "text": [
      "PI = 3.141592653589793\n",
      "No limit = 3141592653589793/1000000000000000\n",
      "3\n",
      "16/5\n",
      "22/7\n",
      "267/85\n",
      "311/99\n",
      "355/113\n",
      "3126535/995207\n"
     ]
    }
   ],
   "source": [
    "from fractions import Fraction\n",
    "import math\n",
    "print('PI =', math.pi)\n",
    "num = Fraction(str(math.pi))\n",
    "print('No limit =', num)\n",
    "for d in [1, 5, 50, 90, 100, 500, 1000000]:\n",
    "    limited = num.limit_denominator(d)\n",
    "    print(limited)"
   ],
   "metadata": {
    "collapsed": false
   }
  },
  {
   "cell_type": "markdown",
   "source": [
    "![jupyter](./img3.png)"
   ],
   "metadata": {
    "collapsed": false
   }
  },
  {
   "cell_type": "markdown",
   "source": [
    "Иррациональным числом называют действительное число, которое не является рациональным (его нельзя записать обыкновенной дробью).\n",
    "Напр:\n",
    "$\\sqrt{5} = 2.23606798..$\n",
    "$\\sqrt{11} = 3.31662479..$"
   ],
   "metadata": {
    "collapsed": false
   }
  },
  {
   "cell_type": "code",
   "execution_count": 5,
   "outputs": [
    {
     "name": "stdout",
     "output_type": "stream",
     "text": [
      "17/10\n",
      "1/10\n"
     ]
    }
   ],
   "source": [
    "from fractions import Fraction as F\n",
    "num1 = F('1/5') + F('3/2')\n",
    "num2 = F('1/4') * F('2/5')\n",
    "print(num1)\n",
    "print(num2)"
   ],
   "metadata": {
    "collapsed": false
   }
  },
  {
   "cell_type": "code",
   "execution_count": 6,
   "outputs": [
    {
     "ename": "TypeError",
     "evalue": "unsupported operand type(s) for +: 'decimal.Decimal' and 'Fraction'",
     "output_type": "error",
     "traceback": [
      "\u001B[0;31m---------------------------------------------------------------------------\u001B[0m",
      "\u001B[0;31mTypeError\u001B[0m                                 Traceback (most recent call last)",
      "Cell \u001B[0;32mIn [6], line 5\u001B[0m\n\u001B[1;32m      3\u001B[0m num1 \u001B[38;5;241m=\u001B[39m Decimal(\u001B[38;5;124m'\u001B[39m\u001B[38;5;124m12.5\u001B[39m\u001B[38;5;124m'\u001B[39m)\n\u001B[1;32m      4\u001B[0m num2 \u001B[38;5;241m=\u001B[39m Fraction(\u001B[38;5;241m19\u001B[39m, \u001B[38;5;241m3\u001B[39m)\n\u001B[0;32m----> 5\u001B[0m \u001B[38;5;28mprint\u001B[39m(\u001B[43mnum1\u001B[49m\u001B[43m \u001B[49m\u001B[38;5;241;43m+\u001B[39;49m\u001B[43m \u001B[49m\u001B[43mnum2\u001B[49m)\n",
      "\u001B[0;31mTypeError\u001B[0m: unsupported operand type(s) for +: 'decimal.Decimal' and 'Fraction'"
     ]
    }
   ],
   "source": [
    "from decimal import Decimal\n",
    "from fractions import Fraction\n",
    "num1 = Decimal('12.5')\n",
    "num2 = Fraction(19, 3)\n",
    "print(num1 + num2)"
   ],
   "metadata": {
    "collapsed": false
   }
  },
  {
   "cell_type": "markdown",
   "source": [
    "Названия «вещественное число» и «действительное число» равнозначны."
   ],
   "metadata": {
    "collapsed": false
   }
  },
  {
   "cell_type": "markdown",
   "source": [
    "$a^n$ - степень\n",
    "a - основание степени\n",
    "n - показатель степени\n",
    "\n",
    "Если показатель степени натуральное число, то его называют натуральным показателем"
   ],
   "metadata": {
    "collapsed": false
   }
  },
  {
   "cell_type": "markdown",
   "source": [
    "![jupyter](./img5.png)"
   ],
   "metadata": {
    "collapsed": false
   }
  },
  {
   "cell_type": "markdown",
   "source": [
    "![jupyter](./img6.png)"
   ],
   "metadata": {
    "collapsed": false
   }
  },
  {
   "cell_type": "markdown",
   "source": [
    "![jupyter](./img7.png)"
   ],
   "metadata": {
    "collapsed": false
   }
  },
  {
   "cell_type": "markdown",
   "source": [
    "![jupyter](./img8.png)\n",
    "![jupyter](./img9.png)"
   ],
   "metadata": {
    "collapsed": false
   }
  },
  {
   "cell_type": "markdown",
   "source": [
    "![jupyter](./img10.png)"
   ],
   "metadata": {
    "collapsed": false
   }
  },
  {
   "cell_type": "code",
   "execution_count": 5,
   "outputs": [
    {
     "name": "stdout",
     "output_type": "stream",
     "text": [
      "<class 'complex'>\n",
      "(5+7j)\n",
      "1j\n",
      "(-3+5j)\n",
      "(1.5+3.2j)\n"
     ]
    }
   ],
   "source": [
    "z1 = 5 + 7j\n",
    "print(type(z1))\n",
    "z2 = 1j\n",
    "z3 = -3 + 5J\n",
    "z4 = 1.5 + 3.2j\n",
    "print(z1, z2, z3, z4, sep='\\n')"
   ],
   "metadata": {
    "collapsed": false
   }
  },
  {
   "cell_type": "code",
   "execution_count": 6,
   "outputs": [
    {
     "name": "stdout",
     "output_type": "stream",
     "text": [
      "(-3+2j)\n",
      "(6-8j)\n",
      "2.5j\n",
      "(5+0j)\n",
      "(3+4j)\n"
     ]
    }
   ],
   "source": [
    "z1 = -3 + 2j # создание на основе литерала\n",
    "z2 = complex(6, -8)  # z2 = 6 - 8j\n",
    "z3 = complex(0, 2.5) # z3 = 2.5j\n",
    "z4 = complex(5, 0)   # z4 = 5 + 0j\n",
    "z5 = complex('3+4j') # создание на основе строки\n",
    "print(z1, z2, z3, z4, z5, sep='\\n')"
   ],
   "metadata": {
    "collapsed": false
   }
  },
  {
   "cell_type": "code",
   "execution_count": 10,
   "outputs": [
    {
     "name": "stdout",
     "output_type": "stream",
     "text": [
      "z1 + z2 = (-2+5j)\n",
      "z1 - z2 = (4+1j)\n",
      "z1 * z2 = (-9-7j)\n",
      "z1 / z2 = (0.23076923076923078-0.8461538461538461j)\n",
      "z1^20 = (9884965888-1512431616j)\n"
     ]
    }
   ],
   "source": [
    "z1 = 1 + 3j\n",
    "z2 = -3 + 2j\n",
    "print('z1 + z2 =', z1 + z2)\n",
    "print('z1 - z2 =', z1 - z2)\n",
    "print('z1 * z2 =', z1 * z2)\n",
    "print('z1 / z2 =', z1 / z2)\n",
    "print('z1^20 =', z1**20)"
   ],
   "metadata": {
    "collapsed": false
   }
  },
  {
   "cell_type": "code",
   "execution_count": 11,
   "outputs": [
    {
     "name": "stdout",
     "output_type": "stream",
     "text": [
      "(6+3j)\n",
      "(-1+3j)\n",
      "(3+9j)\n",
      "(0.5+1.5j)\n"
     ]
    }
   ],
   "source": [
    "z = 1 + 3j\n",
    "print(z + 5)\n",
    "print(z - 2)\n",
    "print(3*z)\n",
    "print(z/2)"
   ],
   "metadata": {
    "collapsed": false
   }
  },
  {
   "cell_type": "code",
   "execution_count": 12,
   "outputs": [
    {
     "name": "stdout",
     "output_type": "stream",
     "text": [
      "Действительная часть = 3.0\n",
      "Мнимая часть = 4.0\n"
     ]
    }
   ],
   "source": [
    "z = 3+4j\n",
    "print('Действительная часть =', z.real)\n",
    "print('Мнимая часть =', z.imag)"
   ],
   "metadata": {
    "collapsed": false
   }
  },
  {
   "cell_type": "code",
   "execution_count": 13,
   "outputs": [
    {
     "name": "stdout",
     "output_type": "stream",
     "text": [
      "Сопряженное число = (3-4j)\n"
     ]
    }
   ],
   "source": [
    "z = 3+4j\n",
    "print('Сопряженное число =', z.conjugate())"
   ],
   "metadata": {
    "collapsed": false
   }
  },
  {
   "cell_type": "code",
   "execution_count": 14,
   "outputs": [
    {
     "name": "stdout",
     "output_type": "stream",
     "text": [
      "Модуль числа = 5.0\n"
     ]
    }
   ],
   "source": [
    "z = 3+4j\n",
    "print('Модуль числа =', abs(z))"
   ],
   "metadata": {
    "collapsed": false
   }
  },
  {
   "cell_type": "code",
   "execution_count": 1,
   "outputs": [
    {
     "name": "stdout",
     "output_type": "stream",
     "text": [
      "0.982793723247329\n",
      "(3.605551275463989, 0.982793723247329)\n"
     ]
    }
   ],
   "source": [
    "import cmath\n",
    "z = 2+3j\n",
    "print(cmath.phase(z)) # полярный угол\n",
    "print(cmath.polar(z)) # полярные координаты"
   ],
   "metadata": {
    "collapsed": false
   }
  },
  {
   "cell_type": "code",
   "execution_count": null,
   "outputs": [],
   "source": [],
   "metadata": {
    "collapsed": false
   }
  }
 ],
 "metadata": {
  "kernelspec": {
   "display_name": "Python 3",
   "language": "python",
   "name": "python3"
  },
  "language_info": {
   "codemirror_mode": {
    "name": "ipython",
    "version": 2
   },
   "file_extension": ".py",
   "mimetype": "text/x-python",
   "name": "python",
   "nbconvert_exporter": "python",
   "pygments_lexer": "ipython2",
   "version": "2.7.6"
  }
 },
 "nbformat": 4,
 "nbformat_minor": 0
}
